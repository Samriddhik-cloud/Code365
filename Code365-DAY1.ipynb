{
 "cells": [
  {
   "cell_type": "markdown",
   "metadata": {},
   "source": [
    "# Code 365 - Day 1    \n",
    "## By: SAMRIDDHI KUSHAL\n",
    "\n",
    "                                                                                               \n",
    "\n",
    "### Q1.You are given four integers as input and your program has to find out if there exists such a rectangle with the given integers as its side lengths (Given length inputs can be in any order). "
   ]
  },
  {
   "cell_type": "code",
   "execution_count": 2,
   "metadata": {},
   "outputs": [
    {
     "name": "stdout",
     "output_type": "stream",
     "text": [
      "NO\n"
     ]
    }
   ],
   "source": [
    "def Rect(w,x,y,z):\n",
    "    \n",
    "    if (w==x and y==z) or (x==y and z==w) or (y==w and x==z):\n",
    "        return True\n",
    "    else:\n",
    "        return False \n",
    "\n",
    "\n",
    "w,x,y,z = 2,7,3,2\n",
    "print((\"YES\" if Rect(w,x,y,z) else \"NO\"))"
   ]
  },
  {
   "cell_type": "code",
   "execution_count": null,
   "metadata": {},
   "outputs": [],
   "source": []
  }
 ],
 "metadata": {
  "kernelspec": {
   "display_name": "Python 3",
   "language": "python",
   "name": "python3"
  },
  "language_info": {
   "codemirror_mode": {
    "name": "ipython",
    "version": 3
   },
   "file_extension": ".py",
   "mimetype": "text/x-python",
   "name": "python",
   "nbconvert_exporter": "python",
   "pygments_lexer": "ipython3",
   "version": "3.8.5"
  }
 },
 "nbformat": 4,
 "nbformat_minor": 4
}
